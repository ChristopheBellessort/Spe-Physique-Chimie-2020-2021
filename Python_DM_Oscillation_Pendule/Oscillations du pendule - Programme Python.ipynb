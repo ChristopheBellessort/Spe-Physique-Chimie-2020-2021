{
 "cells": [
  {
   "cell_type": "code",
   "execution_count": null,
   "metadata": {},
   "outputs": [],
   "source": [
    "import matplotlib.pyplot as plt\n",
    "%matplotlib widget\n",
    "#Altitude, durée et vitesse trouvées\n",
    "Z=[0,0.010,0.026,0.048,0.077,0.100,0.117,0.123,0.121,0.110,0.09,0.064,0.039,0.020,0.005]\n",
    "T=[0.20,0.24,0.28,0.32,0.36,0.40,0.44,0.48,0.52,0.56,0.60,0.64,0.68,0.72,0.76]\n",
    "V=[1.57,1.51,1.40,1.24,1.00,0.68,0.39,0.09,0.22,0.54,0.84,1.1,1.32,1.46,1.54]\n",
    "m=0.100\n",
    "#Détermination des valeurs de l'énergie cinétique et création des valeurs\n",
    "Ec=[]\n",
    "for i in range (len(V)) :\n",
    "    Ec=Ec+[0.5*m*V[i]**2]\n",
    "#Détermination des valeurs de l'énergie potentielle et création des valeurs\n",
    "Epp=[]\n",
    "for i in range (len(Z)) :\n",
    "    Epp=Epp+[m*9.81*Z[i]]\n",
    "\n",
    "#tracé de la courbe\n",
    "plt.grid()\n",
    "plt.title(\"Evolution des énergies cinétique, potentielle de pesanteur\")\n",
    "plt.xlabel('$t$ (s)')\n",
    "plt.ylabel('$\\mathcal{E}_{pp}, \\mathcal{E}_c$')\n",
    "plt.plot(T,Epp,'r--o',label='$\\mathcal{E}_{pp}$')\n",
    "plt.plot(T,Ec,'k--x',label='$\\mathcal{E}_{c}$')\n",
    "plt.legend()\n",
    "plt.show()"
   ]
  }
 ],
 "metadata": {
  "kernelspec": {
   "display_name": "Python 3",
   "language": "python",
   "name": "python3"
  },
  "language_info": {
   "codemirror_mode": {
    "name": "ipython",
    "version": 3
   },
   "file_extension": ".py",
   "mimetype": "text/x-python",
   "name": "python",
   "nbconvert_exporter": "python",
   "pygments_lexer": "ipython3",
   "version": "3.8.5"
  }
 },
 "nbformat": 4,
 "nbformat_minor": 4
}
