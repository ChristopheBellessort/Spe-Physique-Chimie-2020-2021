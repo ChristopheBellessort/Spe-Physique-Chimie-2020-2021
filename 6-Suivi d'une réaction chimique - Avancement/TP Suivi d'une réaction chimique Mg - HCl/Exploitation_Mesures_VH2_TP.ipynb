{
 "cells": [
  {
   "cell_type": "markdown",
   "metadata": {},
   "source": [
    "# Suivi de la réaction chimique entre le magnésium et l'acide chlorhydrique - Exploitation d'une mesure de volume de gaz dégagé #"
   ]
  },
  {
   "cell_type": "markdown",
   "metadata": {},
   "source": [
    "## Réaction chimique ##\n",
    "$\\Large{\\text{Mg}_{(s)} + 2 \\text{H}^+_{(aq)} \\rightarrow \\text{Mg}_{(aq)}^{2+} + \\text{H}_{2(g)}}$"
   ]
  },
  {
   "cell_type": "markdown",
   "metadata": {},
   "source": [
    "## Tableau d'avancement de la réaction ##\n",
    "![caption](https://christophebellessort.canoprof.fr/eleve/1_SPE_PH-CH/TableauAvancementMagnesium.png)"
   ]
  },
  {
   "cell_type": "markdown",
   "metadata": {},
   "source": [
    "## Correspondance entre les notations du TP et les noms des variables du programme ##\n",
    "![caption](https://christophebellessort.canoprof.fr/eleve/1_SPE_PH-CH/Correspondances_variables.png)"
   ]
  },
  {
   "cell_type": "markdown",
   "metadata": {},
   "source": [
    "## Construction du programme pas à pas ##"
   ]
  },
  {
   "cell_type": "markdown",
   "metadata": {},
   "source": [
    "### Importation des bibliothèques ###"
   ]
  },
  {
   "cell_type": "code",
   "execution_count": null,
   "metadata": {},
   "outputs": [],
   "source": [
    "import matplotlib.pyplot as plt  # Importation de la bibliothèque graphique\n",
    "import numpy as np  # Importation de numpy pour la fonction d'import de mesures\n",
    "%matplotlib widget"
   ]
  },
  {
   "cell_type": "markdown",
   "metadata": {},
   "source": [
    "### Importation des deux listes t et VH ###\n",
    "* Pour importer vos mesures, vous devez préparer un fichier au format *csv* et le nommer strictement *mesures.csv* : cliquer sur [ce lien](https://pod.ac-normandie.fr/video/0473-preparercsv_pour_pythonmkv/) pour suivre la procédure depuis des données entrées dans une feuille de calcul de tableur.\n",
    "* Une fois le fichier *mesures.csv* créé, vous devez le déposer dans votre session à distance dans le même dossier que le notebook que vous êtes en train d'utiliser : cliquer sur [ce lien](https://pod.ac-normandie.fr/video/0550-importer-un-fichier-de-mesures-au-format-csv-dans-un-notebook-sur-binder/) pour voir la procédure."
   ]
  },
  {
   "cell_type": "code",
   "execution_count": null,
   "metadata": {},
   "outputs": [],
   "source": [
    "t, VH = np.loadtxt(\"mesures.csv\", skiprows=1, delimiter=\";\", unpack=True, usecols=(0, 1))  #Importation de la liste des dates et de la liste des volumes de dihydrogène dégagé."
   ]
  },
  {
   "cell_type": "markdown",
   "metadata": {},
   "source": [
    "Éxécuter la cellule ci-dessous pour vérifier que les listes ont bien été importées."
   ]
  },
  {
   "cell_type": "code",
   "execution_count": null,
   "metadata": {},
   "outputs": [],
   "source": [
    "print(t)\n",
    "print(VH)"
   ]
  },
  {
   "cell_type": "markdown",
   "metadata": {},
   "source": [
    "### Entrée des conditions initiales et des constantes ###\n",
    "Renseigner les valeurs numériques :\n",
    "* du volume molaire à la température de la pièce ;\n",
    "* de la quantité de matière initiale de magnésium calculée par : $n_0(Mg)=\\dfrac{m(Mg)}{M(Mg)}$ ;\n",
    "* de la quantité de matière initiale d'ions oxonium calculée par : $n_0\\left(H^+ \\right)=C_a \\times V_a$."
   ]
  },
  {
   "cell_type": "code",
   "execution_count": null,
   "metadata": {},
   "outputs": [],
   "source": [
    "# Entrée des quantités initiales et du volume molaire (L/mol)\n",
    "Vm = À COMPLÉTER  # Volume molaire à la température de salle\n",
    "n0Mg = À COMPLÉTER  # quantité de matière initiale de magnésium\n",
    "n0H = À COMPLÉTER  # quantité de matière initiale d'ions H+"
   ]
  },
  {
   "cell_type": "markdown",
   "metadata": {},
   "source": [
    "### Calcul de l'avancement ###\n",
    "On a montré que l'avancement de la réaction pouvait se calculer à partir du volume de dihydrogène dégagé par : $x=\\dfrac{V\\left(H_2 \\right)}{V_m}$.<br>\n",
    "La liste contenant les valeurs de l'avancement *x* aux différentes dates est construire par compréhension avec la syntaxe ci-dessous :"
   ]
  },
  {
   "cell_type": "code",
   "execution_count": null,
   "metadata": {},
   "outputs": [],
   "source": [
    "x = [V / 1000 / Vm for V in VH]"
   ]
  },
  {
   "cell_type": "markdown",
   "metadata": {},
   "source": [
    "### Calcul des quantités de matière des espèces chimiques présentes en fonction de l'avancement x ###\n",
    "Compléter les lignes du programme ci-dessous en vous appuyant sur les relations du tableau d'avancement et les noms des variables utilisées dans le programme pour calculer les quantités de matière des différentes espèces chimiques présentes dans le système."
   ]
  },
  {
   "cell_type": "code",
   "execution_count": null,
   "metadata": {},
   "outputs": [],
   "source": [
    "nMg = [À COMPLÉTER for val in x]  # Quantité de matière de magnésium en fonction de x\n",
    "nH = [À COMPLÉTER for val in x]  # Quantité de matière dion H+ en fonction de x\n",
    "nH2 = [À COMPLÉTER for val in x]  # Calcul de la quantité de matière de dihydrogène à partir de x\n",
    "nMgPlus = [À COMPLÉTER for val in x]  # Quantité de matière d'ions Mg2+ en fonction de x"
   ]
  },
  {
   "cell_type": "markdown",
   "metadata": {},
   "source": [
    "### Tracé des représentations graphiques ###\n",
    "Compléter les lignes de code ci-dessous avec la liste en abscisses et la liste en ordonnées pour tracer les représentations graphiques correspondant au titre choisi pour chaque figure (ligne *plt.title()*)."
   ]
  },
  {
   "cell_type": "code",
   "execution_count": null,
   "metadata": {},
   "outputs": [],
   "source": [
    "plt.figure(1)\n",
    "plt.title(\"Évolution du volume de dihydrogène dégagé\")\n",
    "plt.plot(À COMPLÉTER, À COMPLÉTER, \"r+\", label=\"Volume de dihydrogène dégagé\")\n",
    "plt.xlabel(\"t(s)\")\n",
    "plt.ylabel(\"$V_{H_2}\\ (\\mathrm{mL})$\")\n",
    "plt.grid()\n",
    "plt.legend()\n",
    "plt.show()\n",
    "\n",
    "plt.figure(2)\n",
    "plt.title(\"Évolution de l'avancement x au cours du temps\")\n",
    "plt.plot(À COMPLÉTER, À COMPLÉTER, color = \"black\")\n",
    "plt.xlabel(\"t(s)\")\n",
    "plt.ylabel(\"x en mol\")\n",
    "plt.grid()\n",
    "plt.show()\n",
    "\n",
    "plt.figure(3)\n",
    "plt.title(\"Évolution des quantités de matière au cours du temps\")\n",
    "plt.plot(À COMPLÉTER, À COMPLÉTER, \"b+\", label = r\"$H_2$\")\n",
    "plt.plot(À COMPLÉTER, À COMPLÉTER, \"r+\", label = r\"$Mg$\")\n",
    "plt.plot(À COMPLÉTER, À COMPLÉTER, \"k+\", label = r\"$H^{+}$\")\n",
    "plt.plot(À COMPLÉTER, À COMPLÉTER, \"g+\", label = r\"$Mg^{2+}$\")\n",
    "plt.xlabel(\"t(s)\")\n",
    "plt.ylabel(\"mol\")\n",
    "plt.grid()\n",
    "plt.legend()\n",
    "plt.show()"
   ]
  }
 ],
 "metadata": {
  "kernelspec": {
   "display_name": "Python 3",
   "language": "python",
   "name": "python3"
  },
  "language_info": {
   "codemirror_mode": {
    "name": "ipython",
    "version": 3
   },
   "file_extension": ".py",
   "mimetype": "text/x-python",
   "name": "python",
   "nbconvert_exporter": "python",
   "pygments_lexer": "ipython3",
   "version": "3.8.5"
  }
 },
 "nbformat": 4,
 "nbformat_minor": 4
}
