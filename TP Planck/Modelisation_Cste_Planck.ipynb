{
 "cells": [
  {
   "cell_type": "markdown",
   "metadata": {},
   "source": [
    "# TP - Détermination de la constante de Planck - Traitement des mesures expérimentales à l'aide d'un programme Python #"
   ]
  },
  {
   "cell_type": "markdown",
   "metadata": {},
   "source": [
    "Cette feuille a pour objectif de vous faire mettre en pratique une méthode possible en Python pour obtenir une modélisation à partir de résultats expérimentaux. On s'appuie sur les mesures que vous avez réalisées lors de la séance de travaux pratiques **Détermination de la constante de Planck**.<br>\n",
    "On rappelle que cette détermination s'appuie essentiellement sur la représentation graphique de la tension de seuil des DEL en fonction de la fréquence des photons émis.<br>\n",
    "On rappelle cette relation : $U_{seuil}=\\dfrac{h}{e}\\times \\nu$<br>"
   ]
  },
  {
   "cell_type": "markdown",
   "metadata": {},
   "source": [
    "## Principe de la modélisation avec curvefit ##\n",
    "Cette méthode est particulièrement intéressante, car elle peut s'appliquer à des modélisations plus complexes que les fonctions affines rencontrées fréquemment.<br>\n",
    "Dans ce premier exemple, elle sera cependant exploitée sur une relation de type *linéaire*.<br>\n",
    "La modélisation s'effectue en deux temps :\n",
    "1. Définition dans le programme d'une *fonction* modèle qui prend comme arguments les coefficients du modèle et la grandeur en abscisse. **Elle renvoie la valeur en ordonnée par un *return***\n",
    "2. Calcul des coefficients avec la fonction *curve_fit* : *curve_fit* prend comme arguments le nom de la fonction modèle définie au point 1, la série de données expérimentales en abscisse ainsi que la série de données expérimentales en ordonnée. D'autres arguments peuvent être entrés pour faire face à des situations plus complexes. *curve_fit* renvoie une liste Python contenant les valeurs numériques des paramètres utilisés dans la fonction modèle définie au point 1."
   ]
  },
  {
   "cell_type": "markdown",
   "metadata": {},
   "source": [
    "## Construction pas à pas du programme ##\n",
    "Dans la version exécutable sur ordinateur, l'entrée des données expérimentales est assurée par ouverture interactive d'un fichier de données de type csv. Cette méthode n'est pas possible dans un Notebook hébergé sur un serveur, donc les données expérimentales sont directement entrées dans le programme dans deux listes Python."
   ]
  },
  {
   "cell_type": "code",
   "execution_count": null,
   "metadata": {},
   "outputs": [],
   "source": [
    "\"\"\"Importation des bibliothèques et fonctions nécessaires\"\"\"\n",
    "import matplotlib.pyplot as plt  # Bibliothèque graphique pour tracer les courbes et placer les points de mesure\n",
    "%matplotlib widget\n",
    "from scipy.optimize import curve_fit  # Importation de la fonction de recherche du modèle."
   ]
  },
  {
   "cell_type": "code",
   "execution_count": null,
   "metadata": {},
   "outputs": [],
   "source": [
    "\"\"\"On entre les deux listes f et Useuil, respectivement fréquence du photon émis et tension de seuil de la DEL\"\"\"\n",
    "f = [4.74e14, 4.54e14, 5.25e14, 6.55e14, 6.56e14, 4.62e14, 5.39e14, 5.09e14, 4.78e14, 6.58e14, 4.58e14, 4.74e14, 4.76e14, 4.54e14, 5.12e14, 5.10e14, 4.61e14, 5.09e14, 5.27e14, 4.96e14, 4.54e14, 4.59e14, 6.64e14, 6.61e14]\n",
    "Useuil = [1.744, 1.7, 1.922, 2.815, 2.77, 1.83, 1.84, 1.82, 1.746, 2.789, 1.702, 1.75, 1.72, 1.668, 1.898, 1.865, 1.91, 1.889, 1.866, 1.843, 1.686, 1.711, 2.837, 2.759]"
   ]
  },
  {
   "cell_type": "markdown",
   "metadata": {},
   "source": [
    "On définit dans la cellule suivante la fonction *fontion_modele* à partir de la relation entre la tension de seuil et la fréquence.<br>\n",
    "Une étude théorique du problème a montré **la proportionnalité** entre la tension de seuil et la fréquence du photon émis."
   ]
  },
  {
   "cell_type": "code",
   "execution_count": null,
   "metadata": {},
   "outputs": [],
   "source": [
    "\"\"\"Définition du modèle : fonction linéaire, dont le seul paramètre est le coefficient directeur\"\"\"\n",
    "def fonction_modele(coeffDir, frequence):\n",
    "    U = coeffDir * frequence\n",
    "    return(U)\n",
    "\"\"\"Cette fonction renvoie la valeur de la tension de seuil quand on fournit le coefficient directeur et la fréquence\"\"\""
   ]
  },
  {
   "cell_type": "markdown",
   "metadata": {},
   "source": [
    "Testez *fonction_modele* ci-dessous avec une valeur du coefficient directeur égale à $5{,}0\\times 10^{-15}$ et de la fréquence égale à $4{,}50\\times 10^{14}$. Dans un programme Python, ces valeur s'écrivent respectivement **5.0e-15** et **4.50e14**."
   ]
  },
  {
   "cell_type": "code",
   "execution_count": null,
   "metadata": {},
   "outputs": [],
   "source": [
    "fonction_modele( , )"
   ]
  },
  {
   "cell_type": "markdown",
   "metadata": {},
   "source": [
    "On obtient les coefficients intervenant dans un modèle en utilisant la fonction *curve_fit* avec la syntaxe suivante :<br>\n",
    "**coefficients = curve_fit(fonction_modele, série en X, série en Y)**<br>\n",
    "*coefficients* est une liste (en fait une liste de liste) contenant les valeurs des paramètres utilisés dans la fonction modèle. Ici, il n'y a qu'un seul paramètre : le coefficient directeur."
   ]
  },
  {
   "cell_type": "code",
   "execution_count": null,
   "metadata": {},
   "outputs": [],
   "source": [
    "\"\"\"Obtention des paramètres de la modélisation\"\"\"\n",
    "coefficients = curve_fit(fonction_modele, f, Useuil)  # On reprend pour les séries en X et en Y les noms des listes utilisées pour la fréquence et la tension de seuil.\n",
    "k = coefficients[0][0]  # On stocke dans une variable k la valeur du coefficient directeur, premier terme de la liste coefficients.\n",
    "#print(k)  # Décommentez cette ligne (supprimer le # en début de ligne) pour afficher le coefficient directeur."
   ]
  },
  {
   "cell_type": "markdown",
   "metadata": {},
   "source": [
    "On calcule les valeurs correspondant à la **modélisation** avant de placer sur un même graphique les points expérimentaux et la droite modélisée.<br>\n",
    "On stocke les valeurs issues du modèle dans la liste *modeleUseuil* : pour chaque valeur de la fréquence *f*, on calcule la tension Useuil à l'aide du coefficient directeur déterminé précédemment."
   ]
  },
  {
   "cell_type": "code",
   "execution_count": null,
   "metadata": {},
   "outputs": [],
   "source": [
    "modeleUseuil = [fonction_modele(k, valeur_f) for valeur_f in f]  # Cette méthode de construction de liste est appelée liste en compréhension.\n",
    "#print(modeleUseuil)  # Décommentez cette ligne si vous souhaitez afficher le résultat pour vérification."
   ]
  },
  {
   "cell_type": "markdown",
   "metadata": {},
   "source": [
    "À ce stade, nous avons toutes les données pour placer sur un graphique :\n",
    "- les points expérimentaux Useuil en fonction de la fréquence ;\n",
    "- la modélisation obtenue sous la forme d'une fonction linéaire.\n",
    "Le tracé des graphiques fait appel à la bibliothèque *pyplot* qu'on a renommé dans ce programme *plt* pour un appel plus pratique."
   ]
  },
  {
   "cell_type": "code",
   "execution_count": null,
   "metadata": {},
   "outputs": [],
   "source": [
    "plt.figure(1)  # Définition du graphique n°1\n",
    "plt.scatter(f, Useuil, color=\"blue\", marker = \"+\", label = \"Points expérimentaux\")  # On place les points (scatter) expérimentaux, avec des + rouges.\n",
    "plt.plot(f, modeleUseuil, color = \"red\", label = f\"Modélisation : Useuil = {k:.3e} x f\")  # On trace la fonction modèle, son étiquette est l'équation de la droite\n",
    "plt.xlabel(\"f (Hz)\")  # Étiquette de l'axe des abscisses\n",
    "plt.ylabel(\"Useuil\")  # Étiquette de l'axe des ordonnées\n",
    "plt.legend()  # Pour afficher la légende (les 'label')\n",
    "plt.grid()  # Affichage du quadrillage\n",
    "plt.show()  # Affichage du graphique"
   ]
  },
  {
   "cell_type": "markdown",
   "metadata": {},
   "source": [
    "Pour estimer la dispersion des points expérimentaux par rapport au modèle, on peut calculer pour chaque mesure son écart avec la modélisation. On place ces écarts dns une liste deltaUseuil.<br>\n",
    "On place ensuite ces écarts sur un graphique avec la ligne de référence confondue avec l'axe des abscisses."
   ]
  },
  {
   "cell_type": "code",
   "execution_count": null,
   "metadata": {},
   "outputs": [],
   "source": [
    "\"\"\"Calcul des écarts par rapport au modèle\"\"\"\n",
    "deltaUseuil = [Useuil[i] - modeleUseuil[i] for i in range(len(Useuil))]\n",
    "ref = []\n",
    "for i in range(len(Useuil)):\n",
    "    ref.append(0)"
   ]
  },
  {
   "cell_type": "code",
   "execution_count": null,
   "metadata": {},
   "outputs": [],
   "source": [
    "\"\"\"Tracé de la représentation graphique\"\"\"\n",
    "plt.figure(2)\n",
    "plt.plot(f, ref, color = \"red\", label = \"Référence\")  # Tracé de la ligne de référence Delta Useuil = 0\n",
    "plt.scatter(f, deltaUseuil, color = \"blue\", marker = \"+\", label = \"Écart avec le modèle\")  # On place les écarts par rapports au modèle\n",
    "plt.xlabel(\"f (Hz)\")  # Légende de l'axe des abscisses\n",
    "plt.ylabel(\"Delta Useuil (V)\")  #Légende de l'axe des ordonnées\n",
    "plt.legend()  # Affichage de la légende\n",
    "plt.grid()  # Affichage du quadrillage\n",
    "plt.show()  # Affichage du graphique"
   ]
  },
  {
   "cell_type": "markdown",
   "metadata": {},
   "source": [
    "On conclut avec le calcul de la valeur de la constante de Planck obtenue expérimentalement.<br>\n",
    "On rappelle que : $U_{seuil}=\\dfrac{h}{e}\\times \\nu$, avec $\\dfrac{h}{e} = k$"
   ]
  },
  {
   "cell_type": "code",
   "execution_count": null,
   "metadata": {},
   "outputs": [],
   "source": [
    "e = 1.602e-19  # Charge élémentaire\n",
    "hTheo = 6.63e-34  # Valeur théorique de la constante de Planck\n",
    "hExpe = e * k  # Calcul de la valeur de la constante de Planck obtenue à partir des mesures expérimentales\n",
    "ecartRel = abs(hTheo - hExpe) / hTheo * 100  # Calcul de l'écart relatif entre la valeur théorique et la valeur expérimentale\n",
    "\"\"\"Affichage des résultats\"\"\"\n",
    "print(f\"Valeur expérimentale de la constante de Planck : {hExpe:.2e} J.s\")\n",
    "print(f\"Écart relatif : e = {ecartRel:.1f} %\")"
   ]
  },
  {
   "cell_type": "code",
   "execution_count": null,
   "metadata": {},
   "outputs": [],
   "source": []
  }
 ],
 "metadata": {
  "kernelspec": {
   "display_name": "Python 3",
   "language": "python",
   "name": "python3"
  },
  "language_info": {
   "codemirror_mode": {
    "name": "ipython",
    "version": 3
   },
   "file_extension": ".py",
   "mimetype": "text/x-python",
   "name": "python",
   "nbconvert_exporter": "python",
   "pygments_lexer": "ipython3",
   "version": "3.8.5"
  }
 },
 "nbformat": 4,
 "nbformat_minor": 4
}
