{
 "cells": [
  {
   "cell_type": "markdown",
   "metadata": {},
   "source": [
    "# Obtention de la caractéristique d'un générateur à partir de mesures expérimentales #"
   ]
  },
  {
   "cell_type": "markdown",
   "metadata": {},
   "source": [
    "On reprend ici les mesures effectuées lors de la séance de travaux pratiques sur la caractéristique du générateur avec comme objectifs :\n",
    "* de les traiter dans un programme en Python ;\n",
    "* de les placer sur un graphique ;\n",
    "* d'obtenir la caractérisitque du générateur en modélisant la série de mesures par une fonction affine ;\n",
    "* de calculer les écarts des points expérimentaux par rapport au modèle et de les placer sur un graphique.<br>\n",
    "Si vous voulez essayer de travailler en autonomie, vous pouvez vous appuyer sur [la boîte à outils Python disponible en ligne.](https://xofe14.scenari-community.org/Publications/Formations/0_Boite_a_outils_Python_web/co/0_module_Boite_a_outils_Python.html)<br>\n",
    "Vous pouvez travailler directement dans ce Notebook ou suivre ses consignes et copier-coller les cellules de code dans un éditeur Python du type Edupython ou Spyder."
   ]
  },
  {
   "cell_type": "markdown",
   "metadata": {},
   "source": [
    "**Dans cette page, les cellules de code s'exécutent en utilisant la barre d'outils ou la combinaison de touches MAJ + ENTRÉE**"
   ]
  },
  {
   "cell_type": "code",
   "execution_count": null,
   "metadata": {},
   "outputs": [],
   "source": [
    "# Cette cellule importe les bibliothèques nécessaires à l'écriture du programme\n",
    "from numpy import loadtxt  # Importation de la focntion permettant d'importer des mesures depuis un fichier texte\n",
    "import matplotlib.pyplot as plt  # Bibliothèque graphique pour tracer les courbes et placer les points de mesure\n",
    "%matplotlib widget\n",
    "from scipy.optimize import curve_fit  # Importation de la fonction de recherche du modèle."
   ]
  },
  {
   "cell_type": "markdown",
   "metadata": {},
   "source": [
    "## Définition du modèle ##\n",
    "On définit la fonction mathématique que l'on cherche à modéliser, avec l'ensemble des paramètres nécessaires.<br>\n",
    "Il s'agit de la caractéristique du générateur qui relie la tension **U** à ses bornes à l'intensité **I** débitée.<br>\n",
    "On cherche à déterminer les valeurs numériques des paramètres **E** et **r** dans l'expression $U = E - r \\cdot I$.<br>"
   ]
  },
  {
   "cell_type": "code",
   "execution_count": null,
   "metadata": {},
   "outputs": [],
   "source": [
    "def car_gene(I, E, r):  # On nomme la fonction (car_gene). Elle renvoie la valeur de U si on fournit E, r, I et U\n",
    "    U = À COMPLÉTER\n",
    "    return U  # Renvoie la valeur de la tension"
   ]
  },
  {
   "cell_type": "markdown",
   "metadata": {},
   "source": [
    "### Importation des deux listes I et U ###\n",
    "* Pour importer vos mesures, vous devez préparer un fichier au format *csv* et le nommer strictement *Mesures_U_I.csv* : cliquer sur [ce lien](https://pod.ac-normandie.fr/video/0473-preparercsv_pour_pythonmkv/) pour suivre la procédure depuis des données entrées dans une feuille de calcul de tableur.\n",
    "* Une fois le fichier *Mesures_U_I.csv* créé, vous devez le déposer dans votre session à distance dans le même dossier que le notebook que vous êtes en train d'utiliser : cliquer sur [ce lien](https://pod.ac-normandie.fr/video/0550-importer-un-fichier-de-mesures-au-format-csv-dans-un-notebook-sur-binder/) pour voir la procédure."
   ]
  },
  {
   "cell_type": "code",
   "execution_count": null,
   "metadata": {},
   "outputs": [],
   "source": [
    "I, U = loadtxt(\"Mesures_U_I.csv\", skiprows=1, delimiter=\";\", unpack=True, usecols=(0, 1))  #Importation de la liste intensités et tensions mesurées."
   ]
  },
  {
   "cell_type": "markdown",
   "metadata": {},
   "source": [
    "## Obtention de la modélisation ##\n",
    "On obtient la modélisation à l'aide de la fonction curve_fit() qui prend comme arguments les éléments suivants et dans cet ordre :\n",
    "* la fonction modèle (car_gene) ;\n",
    "* la série de données en abscisses : l'intensité I ;\n",
    "* la série de données en ordonnées : la tension U.<br>"
   ]
  },
  {
   "cell_type": "code",
   "execution_count": null,
   "metadata": {},
   "outputs": [],
   "source": [
    "parametres, cov = curve_fit(À COMPLÉTER)  # On stocke le résultat de la modélisation dans une liste (parametres)\n",
    "E = parametres[0]\n",
    "r = parametres[1]\n",
    "equation = f\"U = {E:.3e} - {r:.3e} x I\"  # Mise en forme de l'équation en tant que chaîne de caractères pour affichage\n",
    "print(\"Caractéristique du générateur\")\n",
    "print(equation)  # Affichage du modèle pour vérification\n",
    "print(f\"Force électromotrice : E = {E:.2e} V\")\n",
    "print(f\"Résistance interne : r = {r:.2e} ohm\")"
   ]
  },
  {
   "cell_type": "markdown",
   "metadata": {},
   "source": [
    "## Construction de la représentation graphique ##\n",
    "On place sur la même représentation graphique :\n",
    "* les points expérimentaux ;\n",
    "* la modélisation calculée précédemment.<br>"
   ]
  },
  {
   "cell_type": "code",
   "execution_count": null,
   "metadata": {},
   "outputs": [],
   "source": [
    "\"\"\"Calcul du modèle sur la gamme de concentrations utilisées\"\"\"\n",
    "Umodele = [car_gene(val, E, r) for val in I]  # On calcule les valeurs de la tension à partir du modèle\n",
    "print(Umodele)  # Pour vérification"
   ]
  },
  {
   "cell_type": "markdown",
   "metadata": {},
   "source": [
    "Les lignes de commande ci-dessous permettent de placer sur le même graphique les points expérimentaux et la modélisation.\n",
    "Compléter les deux lignes plt.plot pour obtenir le résultat souhaité."
   ]
  },
  {
   "cell_type": "code",
   "execution_count": null,
   "metadata": {},
   "outputs": [],
   "source": [
    "plt.figure(1)\n",
    "plt.plot(Série en abscisses, Série en ordonnées, \"r+\", label=\"Mesures\")  # On place les points expérimentaux, r pour red et + pour la forme du point, étiquette pour la légende \"Mesures\"\n",
    "plt.plot(Série en abscisses, Série en ordonnées, color = 'blue', label = \"Modèle : \" + equation)  # Tracé de la modélisation en bleu, étiquette \"Modèle et équation de la droite\"\n",
    "plt.title(\"Caractéristique du générateur\")  # Titre du graphique\n",
    "plt.xlabel(\"I (A)\")  # Étiquette de l'axe des abscisses\n",
    "plt.ylabel(\"U (V)\")  # Étiquette de l'axe des ordonnées\n",
    "plt.legend()  # Affichage de la légende\n",
    "plt.show()  # Affichage du graphique"
   ]
  },
  {
   "cell_type": "markdown",
   "metadata": {},
   "source": [
    "## Complément - Tracé des écarts entre les points expérimentaux et la modélisation ##\n",
    "Il s'agit de placer sur un graphique, pour chaque valeur de l'intensité la différence entre la tension modélisée *Umodele* et la tension mesurée *U* : $\\Delta U = U - Umodele$"
   ]
  },
  {
   "cell_type": "code",
   "execution_count": null,
   "metadata": {},
   "outputs": [],
   "source": [
    "\"\"\"Calculs des écarts expérience-modèle stockés dans la liste DeltaU\n",
    "Compléter la ligne de code ci-dessous en vous inspirant de ce qui a été fait pour Umodele pour obtenir les valeurs de U - Umodele.\n",
    "Rappel : dans une liste liste[0] est le premier terme de la liste, liste[1] le deuxième terme, etc...\"\"\"\n",
    "DeltaU=[COMPLÉTER... for i in range(len(U))]"
   ]
  },
  {
   "cell_type": "markdown",
   "metadata": {},
   "source": [
    "### Obtention de la représentation graphique ###\n",
    "Compléter les lignes ci-dessous avec les informations nécessaires pour placer sur le graphique :\n",
    "* les écarts entre expérience et modèle ;\n",
    "* une ligne de référence à 0.<br>\n",
    "Vous pouvez vous inspirer de la création du premier graphique."
   ]
  },
  {
   "cell_type": "code",
   "execution_count": null,
   "metadata": {},
   "outputs": [],
   "source": [
    "zero=[]\n",
    "for i in range(len(U)):\n",
    "    zero.append(0)  # On crée une liste avec 7 valeurs nulles.\n",
    "plt.figure(2)\n",
    "AJOUTER LES LIGNES NÉCESSAIRES"
   ]
  }
 ],
 "metadata": {
  "kernelspec": {
   "display_name": "Python 3",
   "language": "python",
   "name": "python3"
  },
  "language_info": {
   "codemirror_mode": {
    "name": "ipython",
    "version": 3
   },
   "file_extension": ".py",
   "mimetype": "text/x-python",
   "name": "python",
   "nbconvert_exporter": "python",
   "pygments_lexer": "ipython3",
   "version": "3.8.5"
  }
 },
 "nbformat": 4,
 "nbformat_minor": 4
}
