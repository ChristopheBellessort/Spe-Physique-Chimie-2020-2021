{
 "cells": [
  {
   "cell_type": "markdown",
   "metadata": {},
   "source": [
    "# Modélisation des variations de l'absorbance en fonction de la concentration - Loi de Beer-Lambert #"
   ]
  },
  {
   "cell_type": "markdown",
   "metadata": {},
   "source": [
    "On reprend ici les mesures effectuées lors de la séance de travaux pratiques sur la loi de Beer-Lambert avec comme objectif :\n",
    "* de les traiter dans un programme en Python ;\n",
    "* de les placer sur un graphique ;\n",
    "* d'obtenir la loi de Beer-Lambert en modélisant la série de mesures par une fonction linéaire ;\n",
    "* de calculer les écarts des points expérimentaux par rapport au modèle et de les placer sur un graphique.<br>\n",
    "Si vous voulez essayer de travailler en autonomie, vous pouvez vous appuyer sur [la boîte à outils Python disponible en ligne.](https://xofe14.scenari-community.org/Publications/Formations/0_Boite_a_outils_Python_web/co/0_module_Boite_a_outils_Python.html)<br>\n",
    "Vous pouvez travailler directement dans ce Notebook ou suivre ses consignes et copier-coller les cellules de code dans un éditeur Python du type Edupython ou Spyder."
   ]
  },
  {
   "cell_type": "markdown",
   "metadata": {},
   "source": [
    "**Dans cette page, les cellules de code s'exécutent en utilisant la barre d'outils ou la combinaison de touches MAJ + ENTRÉE**"
   ]
  },
  {
   "cell_type": "code",
   "execution_count": null,
   "metadata": {},
   "outputs": [],
   "source": [
    "# Cette cellule importe les bibliothèques nécessaires à l'écriture du programme\n",
    "import math  # Contient les fonctions mathématiques usuelles\n",
    "import numpy as np  # Permet notamment la création de tableaux de mesures simples à manipuler\n",
    "import matplotlib.pyplot as plt  # Bibliothèque graphique pour tracer les courbes et placer les points de mesure\n",
    "%matplotlib widget\n",
    "from scipy.optimize import curve_fit  # Importation de la fonction de recherche du modèle."
   ]
  },
  {
   "cell_type": "markdown",
   "metadata": {},
   "source": [
    "## Définition du modèle ##\n",
    "On définit la fonction mathématique que l'on cherche à modéliser, avec l'ensemble des paramètres nécessaires.<br>\n",
    "Il s'agit de la loi de Beer-Lambert qui permet de calculer l'absorbance *A* quand on connait la concentration molaire *C*. *k* étant le coefficient de proportionalité entre ces deux grandeurs, à déterminer.\n",
    "On rappelle qu'on a montré lors de la séance de travaux pratiques que : $A = k \\times C$."
   ]
  },
  {
   "cell_type": "code",
   "execution_count": null,
   "metadata": {},
   "outputs": [],
   "source": [
    "def BeerLambert(k, C):  # On nomme la fonction (BeerLambert). Elle renvoie la valeur de A si on fournit k et C\n",
    "    A = k * C\n",
    "    return A  # Renvoie l'absorbance"
   ]
  },
  {
   "cell_type": "markdown",
   "metadata": {},
   "source": [
    "## Saisie des mesures expérimentales ##\n",
    "Les concentrations C et les absorbances correspondantes sont saisies dans deux listes :\n",
    "* entre crochets [] ;\n",
    "* le séparateur décimal est le point '.' ;\n",
    "* chaque valeur est séparée par une virgule ','.<br>\n",
    "On ajoutera la valeur C = 0 et A = 0,  correspondant \"au blanc\" du colorimètre."
   ]
  },
  {
   "cell_type": "code",
   "execution_count": null,
   "metadata": {},
   "outputs": [],
   "source": [
    "C = [0, 1e-4, 7e-5, 5e-5, 3e-5, 2e-5, 1e-5]  # Saisie des concentrations à compléter avec vos mesures\n",
    "Aexpe = [0, 0.23, 0.20, 0.12, 0.06, 0.04, 0.02] # Saisie des valeurs des absorbances mesurées expérimentalement à compléter\n",
    "print(C)  # Affichage des valeurs saisies pour vérification\n",
    "print(Aexpe)  # idem"
   ]
  },
  {
   "cell_type": "markdown",
   "metadata": {},
   "source": [
    "## Obtention de la modélisation ##\n",
    "On obtient la modélisation à l'aide de la fonction curve_fit() qui prend comme arguments les éléments suivants :\n",
    "* la fonction modèle (Beer-Lambert) ;\n",
    "* la série de données en abscisses : la concentration C ;\n",
    "* la série de données en ordonnées : l'absorbance A.<br>"
   ]
  },
  {
   "cell_type": "code",
   "execution_count": null,
   "metadata": {},
   "outputs": [],
   "source": [
    "coeff = curve_fit(BeerLambert, C, Aexpe)  # On stocke le résultat de la modélisation dans une liste (parametres)\n",
    "kexpe = coeff[0][0]  # Un seul paramètre ici, la constante kexpe (expérimental) : le coefficient de proportionnalité entre A et C\n",
    "equation = f\"A = {kexpe:.0f} x C\"  # Mise en forme de l'équation en tant que chaîne de caractères pour affichage\n",
    "print(equation)  # Affichage du modèle pour vérification\n",
    "print(kexpe)  # Affichage de la valeur non arrondie pour vérification"
   ]
  },
  {
   "cell_type": "markdown",
   "metadata": {},
   "source": [
    "## Construction de la représentation graphique ##\n",
    "On place sur la même représentation graphique :\n",
    "* les points expérimentaux ;\n",
    "* la modélisation calculée précédemment.<br>"
   ]
  },
  {
   "cell_type": "code",
   "execution_count": null,
   "metadata": {},
   "outputs": [],
   "source": [
    "\"\"\"Calcul du modèle sur la gamme de concentrations utilisées\"\"\"\n",
    "Amodele = [BeerLambert(kexpe, val) for val in C]  # On calcule les valeurs de l'absorbance modélisée par une méthode dite de liste en compréhension\n",
    "print(Amodele)  # Pour vérification"
   ]
  },
  {
   "cell_type": "markdown",
   "metadata": {},
   "source": [
    "Les lignes de commande ci-dessous permettent de placer sur le même graphique les points expérimentaux et la modélisation.\n",
    "Compléter les deux lignes plt.plot pour obtenir le résultat souhaité."
   ]
  },
  {
   "cell_type": "code",
   "execution_count": null,
   "metadata": {},
   "outputs": [],
   "source": [
    "plt.figure(1)\n",
    "plt.plot(C, Aexpe, \"r+\", label=\"Mesures\")  # On place les points expérimentaux, r pour red et + pour la forme du point, étiquette pour la légende \"Mesures\"\n",
    "plt.plot(C, Amodele, color = 'blue', label = \"Modèle : \" + equation)  # Tracé de la modélisation en bleu, étiquette \"Modèle et équation de la droite\"\n",
    "plt.title(\"Loi de Beer-Lambert pour les ions permanganate\")  # Titre du graphique\n",
    "plt.xlabel(\"C (mol/L)\")  # Étiquette de l'axe des abscisses\n",
    "plt.ylabel(\"Absorbance\")  # Étiquette de l'axe des ordonnées\n",
    "plt.grid()  # Affichage du quadrillage\n",
    "plt.legend()  # Affichage de la légende\n",
    "plt.show()  # Affichage du graphique"
   ]
  },
  {
   "cell_type": "markdown",
   "metadata": {},
   "source": [
    "## Complément - Tracé des écarts entre les points expérimentaux et la modélisation ##\n",
    "Il s'agit de placer sur un graphique, pour chaque valeur expérimentale de la concentration la différence entre l'absorbance modélisée *Amodele* et l'absorbance mesurée *Aexpe* : $\\Delta A = Aexpe - Amodele$"
   ]
  },
  {
   "cell_type": "code",
   "execution_count": null,
   "metadata": {},
   "outputs": [],
   "source": [
    "\"\"\"Calculs des écarts expérience-modèle stockés dans la liste DeltaA\n",
    "Compléter la ligne de code ci-dessous en vous inspirant de ce qui a été fait pour Amodele pour obtenir les valeurs de Aexpe - Amodele.\n",
    "Rappel : dans une liste Aexpe[0] est le premier terme de la liste, Aexpe[1] le deuxième terme, etc...\"\"\"\n",
    "DeltaA=[Aexpe[i] - Amodele[i] for i in range(len(C))]"
   ]
  },
  {
   "cell_type": "markdown",
   "metadata": {},
   "source": [
    "### Obtention de la représentation graphique ###\n",
    "Compléter les lignes ci-dessous avec les informations nécessaires pour placer sur le graphique :\n",
    "* les écarts entre expérience et modèle ;\n",
    "* une ligne de référence à 0.<br>\n",
    "Vous pouvez vous inspirer de la création du premier graphique."
   ]
  },
  {
   "cell_type": "code",
   "execution_count": null,
   "metadata": {},
   "outputs": [],
   "source": [
    "zero=[]\n",
    "for i in range(7):\n",
    "    zero.append(0)  # On crée une liste avec 7 valeurs nulles.\n",
    "plt.figure(2)\n",
    "plt.plot(C, zero, color = \"red\", label = \"Référence\")  # Tracé de la ligne 0\n",
    "plt.plot(C, DeltaA, \"b+\", label = \"$\\Delta A = A_{expe}-A_{modele}$\")\n",
    "plt.legend()\n",
    "plt.xlabel(\"C (mol/L)\")\n",
    "plt.ylabel(\"$\\Delta A$\")\n",
    "plt.grid()\n",
    "plt.show()"
   ]
  }
 ],
 "metadata": {
  "kernelspec": {
   "display_name": "Python 3",
   "language": "python",
   "name": "python3"
  },
  "language_info": {
   "codemirror_mode": {
    "name": "ipython",
    "version": 3
   },
   "file_extension": ".py",
   "mimetype": "text/x-python",
   "name": "python",
   "nbconvert_exporter": "python",
   "pygments_lexer": "ipython3",
   "version": "3.8.5"
  }
 },
 "nbformat": 4,
 "nbformat_minor": 4
}
