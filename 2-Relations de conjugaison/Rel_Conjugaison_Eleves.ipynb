{
 "cells": [
  {
   "cell_type": "markdown",
   "metadata": {},
   "source": [
    "# Relations de conjugaison - Position et nature de l'image #"
   ]
  },
  {
   "cell_type": "markdown",
   "metadata": {},
   "source": [
    "## Objectif ##"
   ]
  },
  {
   "cell_type": "markdown",
   "metadata": {},
   "source": [
    "Il s'agit d'utiliser dans un programme en Python la relation de conjugaison et du grandissement pour calculer automatiquement la position, la taille, l'orientation et la nature de l'image.<br>\n",
    "Des questions vous sont parfois posées avant de compléter quelques cellules de langage pour atteindre l'objectif du programme.<br>\n",
    "**RAPPEL :** Dans un Notebook Python, les cellules de code s'exécutent en cliquant dedans et en utilisant la combinaison de touches **SHIFT + ENTRÉE**.<br>\n",
    "On rappelle les relations établies en cours :\n",
    "* Relation de conjugaison : $\\dfrac{1}{\\overline{OA'}}- \\dfrac{1}{\\overline{OA}}=\\dfrac{1}{f'}$\n",
    "* Relation du grandissement : $\\gamma=\\dfrac{\\overline{A'B'}}{\\overline{AB}}=\\dfrac{\\overline{OA'}}{\\overline{OA}}$"
   ]
  },
  {
   "cell_type": "markdown",
   "metadata": {},
   "source": [
    "Le programme doit être capable de :<br>\n",
    "* proposer la saisie des données : distance focale, position de l'objet, taille de l'objet ;\n",
    "* calculer la position de l'image et l'afficher dans l'unité choisie ;\n",
    "* calculer le grandissement $\\gamma$ ;\n",
    "* calculer la taille de l'image ;\n",
    "* donner sa nature et son sens : réelle/virtuelle, droite/renversée.\n",
    "On rappelle l'expression littérale de la position de l'image en fonction des données :<br>\n",
    "$\\overline{OA'}=\\dfrac{f' \\times \\overline{OA}}{f' + \\overline{OA}}$"
   ]
  },
  {
   "cell_type": "markdown",
   "metadata": {},
   "source": [
    "## Nom des variables utilisées dans le programme ##\n",
    "Pour écrire le programme en Python, nous allons remplacer les grandeurs physiques par des ***variables*** qui pourront être utilisées dans un programme. <br>\n",
    "* $\\overline{OA}$ sera représenté par la variable **xA** ;\n",
    "* $\\overline{OA'}$ sera représenté par la variable **xAprime** ;\n",
    "* $f'$ sera représenté par la variable **f** ;\n",
    "* $\\overline{AB}$ sera représenté par la variable **AB** ;\n",
    "* $\\overline{A'B'}$ sera représenté par la variable **ABprime** ;\n",
    "* $\\gamma$ sera représenté par la variable **gamma**."
   ]
  },
  {
   "cell_type": "markdown",
   "metadata": {},
   "source": [
    "## Choix de l'unité et saisie des données ##"
   ]
  },
  {
   "cell_type": "code",
   "execution_count": null,
   "metadata": {},
   "outputs": [],
   "source": [
    "\"\"\"Vous n'avez pas besoin de modifier les instructions de cette cellule\"\"\"\n",
    "unite = [\"mm\", \"cm\", \"m\"] # Liste des unités pour l'affichage des résultats\n",
    "'''Choix des unités'''\n",
    "print(\"Choisissez l'unité utilisée pour les dimensions et distances (1, 2, ou 3)\")\n",
    "print(\"1 - mm\")\n",
    "print(\"2 - cm\")\n",
    "print(\"3 - m\")\n",
    "choix = 0\n",
    "while (choix!=1) and (choix!=2) and (choix!=3):\n",
    "    choix = int(input(\"Entrez votre choix\"))\n",
    "\n",
    "'''Saisie des données'''\n",
    "f = float(input(\"Entrez la distance focale de la lentille dans l'unité choisie\"))  # float permet de convertir en nombre décimal la chaîne de caractères\n",
    "xA = float(input(\"Entrez la position de l'objet dans l'unité choisie (Attention au signe)\"))\n",
    "AB = float(input(\"Entrez la taille de l'objet dans l'unité choisie\"))"
   ]
  },
  {
   "cell_type": "markdown",
   "metadata": {},
   "source": [
    "## Calcul de la position et de la taille de l'image ##\n",
    "Complétez la cellule de code ci-dessous en suivant les consignes données en commentaires (ne pas enlever les '#\")."
   ]
  },
  {
   "cell_type": "code",
   "execution_count": null,
   "metadata": {},
   "outputs": [],
   "source": [
    "xAprime = 0  # Remplacer le '0' par la relation permettant de calculer la position de l'image en utilisant les noms des variables\n",
    "gamma = 0  # Remplacer le '0' par la relation permettant de calculer le grandissement en utilsant les noms des variables\n",
    "ABprime = 0  # Remplacer le '0' par la relation permettent de calculer la taille de l'image en utilisant les noms des variables"
   ]
  },
  {
   "cell_type": "markdown",
   "metadata": {},
   "source": [
    "## Affichage des résultats ##\n",
    "Vous n'avez pas besoin de modifier la cellule de code ci-dessous.\n",
    "### Explication de la syntaxe des lignes d'affichage ###\n",
    "* print() permet d'afficher des chaînes de caractères, des nombres ou la valeur d'une variable.\n",
    "* On utilise ici les f-string (le *f* devant les guillements) qui permettent d'inclure le contenu d'une variable au coeur d'une chaîne de caractères.\n",
    "* Le contenu d'une variable est placé entre {}.\n",
    "* L'affichage des nombres peut être formaté {*variable* : **.format d'affichage**}, par exemple {xA:.3e} indique qu'on affiche le contenu de la variable *xA*, en écriture scientifique (*e*) et avec 3 chiffres après la virgule."
   ]
  },
  {
   "cell_type": "code",
   "execution_count": null,
   "metadata": {},
   "outputs": [],
   "source": [
    "print(f\"Position de l'objet : {xA:.3e} {unite[choix - 1]}\")\n",
    "print(f\"Position de l'image : {xAprime:.3e} {unite[choix - 1]}\")\n",
    "print(f\"Grandissement : {gamma:.3e}\")\n",
    "print(f\"Taille de l'image : {abs(ABprime):.3e} {unite[choix - 1]}\")"
   ]
  },
  {
   "cell_type": "markdown",
   "metadata": {},
   "source": [
    "## Affichage des caractéristiques de l'image ##\n",
    "En vous appuyant sur votre cours et la fiche bilan sur la relation de conjugaison, complétez les zones maquées ##TEST## avec la condition correspondant à la caractéristique de l'image affichée par le print qui suit la condition."
   ]
  },
  {
   "cell_type": "code",
   "execution_count": null,
   "metadata": {},
   "outputs": [],
   "source": [
    "if (##TEST##) :\n",
    "    print(\"L'image est réelle.\")\n",
    "else :\n",
    "    print(\"L'image est virtuelle.\")\n",
    "if (##TEST##):\n",
    "    print(\"L'image est renversée.\")\n",
    "else :\n",
    "    print(\"L'image est droite.\")\n",
    "if (##TEST##):\n",
    "    print(\"L'image est plus grande que l'objet.\")\n",
    "elif (##TEST##):\n",
    "    print(\"L'image est plus petite que l'objet.\")\n",
    "else :\n",
    "    print(\"L'image a la même taille que l'objet.\")"
   ]
  }
 ],
 "metadata": {
  "kernelspec": {
   "display_name": "Python 3",
   "language": "python",
   "name": "python3"
  },
  "language_info": {
   "codemirror_mode": {
    "name": "ipython",
    "version": 3
   },
   "file_extension": ".py",
   "mimetype": "text/x-python",
   "name": "python",
   "nbconvert_exporter": "python",
   "pygments_lexer": "ipython3",
   "version": "3.8.5"
  }
 },
 "nbformat": 4,
 "nbformat_minor": 4
}
